{
 "cells": [
  {
   "cell_type": "code",
   "execution_count": 2,
   "metadata": {},
   "outputs": [
    {
     "name": "stdout",
     "output_type": "stream",
     "text": [
      "Collecting scikit-learn\n",
      "  Downloading scikit_learn-1.5.2-cp312-cp312-win_amd64.whl.metadata (13 kB)\n",
      "Collecting matplotlib\n",
      "  Downloading matplotlib-3.9.2-cp312-cp312-win_amd64.whl.metadata (11 kB)\n",
      "Collecting seaborn\n",
      "  Downloading seaborn-0.13.2-py3-none-any.whl.metadata (5.4 kB)\n",
      "Requirement already satisfied: numpy>=1.19.5 in c:\\users\\james\\appdata\\local\\programs\\python\\python312\\lib\\site-packages (from scikit-learn) (1.26.3)\n",
      "Collecting scipy>=1.6.0 (from scikit-learn)\n",
      "  Downloading scipy-1.14.1-cp312-cp312-win_amd64.whl.metadata (60 kB)\n",
      "Collecting joblib>=1.2.0 (from scikit-learn)\n",
      "  Downloading joblib-1.4.2-py3-none-any.whl.metadata (5.4 kB)\n",
      "Collecting threadpoolctl>=3.1.0 (from scikit-learn)\n",
      "  Downloading threadpoolctl-3.5.0-py3-none-any.whl.metadata (13 kB)\n",
      "Collecting contourpy>=1.0.1 (from matplotlib)\n",
      "  Downloading contourpy-1.3.0-cp312-cp312-win_amd64.whl.metadata (5.4 kB)\n",
      "Collecting cycler>=0.10 (from matplotlib)\n",
      "  Downloading cycler-0.12.1-py3-none-any.whl.metadata (3.8 kB)\n",
      "Collecting fonttools>=4.22.0 (from matplotlib)\n",
      "  Downloading fonttools-4.54.1-cp312-cp312-win_amd64.whl.metadata (167 kB)\n",
      "Collecting kiwisolver>=1.3.1 (from matplotlib)\n",
      "  Downloading kiwisolver-1.4.7-cp312-cp312-win_amd64.whl.metadata (6.4 kB)\n",
      "Requirement already satisfied: packaging>=20.0 in c:\\users\\james\\appdata\\roaming\\python\\python312\\site-packages (from matplotlib) (24.1)\n",
      "Collecting pillow>=8 (from matplotlib)\n",
      "  Downloading pillow-10.4.0-cp312-cp312-win_amd64.whl.metadata (9.3 kB)\n",
      "Collecting pyparsing>=2.3.1 (from matplotlib)\n",
      "  Downloading pyparsing-3.1.4-py3-none-any.whl.metadata (5.1 kB)\n",
      "Requirement already satisfied: python-dateutil>=2.7 in c:\\users\\james\\appdata\\local\\programs\\python\\python312\\lib\\site-packages (from matplotlib) (2.9.0.post0)\n",
      "Requirement already satisfied: pandas>=1.2 in c:\\users\\james\\appdata\\local\\programs\\python\\python312\\lib\\site-packages (from seaborn) (2.2.3)\n",
      "Requirement already satisfied: pytz>=2020.1 in c:\\users\\james\\appdata\\local\\programs\\python\\python312\\lib\\site-packages (from pandas>=1.2->seaborn) (2024.2)\n",
      "Requirement already satisfied: tzdata>=2022.7 in c:\\users\\james\\appdata\\local\\programs\\python\\python312\\lib\\site-packages (from pandas>=1.2->seaborn) (2023.4)\n",
      "Requirement already satisfied: six>=1.5 in c:\\users\\james\\appdata\\local\\programs\\python\\python312\\lib\\site-packages (from python-dateutil>=2.7->matplotlib) (1.16.0)\n",
      "Downloading scikit_learn-1.5.2-cp312-cp312-win_amd64.whl (11.0 MB)\n",
      "   ---------------------------------------- 0.0/11.0 MB ? eta -:--:--\n",
      "   --- ------------------------------------ 1.0/11.0 MB 5.6 MB/s eta 0:00:02\n",
      "   ------- -------------------------------- 2.1/11.0 MB 4.7 MB/s eta 0:00:02\n",
      "   ----------- ---------------------------- 3.1/11.0 MB 4.7 MB/s eta 0:00:02\n",
      "   --------------- ------------------------ 4.2/11.0 MB 4.8 MB/s eta 0:00:02\n",
      "   -------------------- ------------------- 5.5/11.0 MB 5.0 MB/s eta 0:00:02\n",
      "   ----------------------- ---------------- 6.6/11.0 MB 5.0 MB/s eta 0:00:01\n",
      "   ---------------------------- ----------- 7.9/11.0 MB 5.1 MB/s eta 0:00:01\n",
      "   -------------------------------- ------- 8.9/11.0 MB 5.2 MB/s eta 0:00:01\n",
      "   ------------------------------------ --- 10.0/11.0 MB 5.2 MB/s eta 0:00:01\n",
      "   ---------------------------------------  10.7/11.0 MB 5.2 MB/s eta 0:00:01\n",
      "   ---------------------------------------- 11.0/11.0 MB 4.7 MB/s eta 0:00:00\n",
      "Downloading matplotlib-3.9.2-cp312-cp312-win_amd64.whl (7.8 MB)\n",
      "   ---------------------------------------- 0.0/7.8 MB ? eta -:--:--\n",
      "   ------ --------------------------------- 1.3/7.8 MB 6.1 MB/s eta 0:00:02\n",
      "   ------------- -------------------------- 2.6/7.8 MB 6.0 MB/s eta 0:00:01\n",
      "   ------------------ --------------------- 3.7/7.8 MB 6.2 MB/s eta 0:00:01\n",
      "   -------------------------- ------------- 5.2/7.8 MB 6.1 MB/s eta 0:00:01\n",
      "   -------------------------------- ------- 6.3/7.8 MB 6.0 MB/s eta 0:00:01\n",
      "   ------------------------------------- -- 7.3/7.8 MB 6.0 MB/s eta 0:00:01\n",
      "   -------------------------------------- - 7.6/7.8 MB 5.9 MB/s eta 0:00:01\n",
      "   -------------------------------------- - 7.6/7.8 MB 5.9 MB/s eta 0:00:01\n",
      "   ---------------------------------------- 7.8/7.8 MB 4.5 MB/s eta 0:00:00\n",
      "Downloading seaborn-0.13.2-py3-none-any.whl (294 kB)\n",
      "Downloading contourpy-1.3.0-cp312-cp312-win_amd64.whl (218 kB)\n",
      "Downloading cycler-0.12.1-py3-none-any.whl (8.3 kB)\n",
      "Downloading fonttools-4.54.1-cp312-cp312-win_amd64.whl (2.2 MB)\n",
      "   ---------------------------------------- 0.0/2.2 MB ? eta -:--:--\n",
      "   -------------- ------------------------- 0.8/2.2 MB 4.8 MB/s eta 0:00:01\n",
      "   --------------------------------- ------ 1.8/2.2 MB 4.8 MB/s eta 0:00:01\n",
      "   ---------------------------------------- 2.2/2.2 MB 3.9 MB/s eta 0:00:00\n",
      "Downloading joblib-1.4.2-py3-none-any.whl (301 kB)\n",
      "Downloading kiwisolver-1.4.7-cp312-cp312-win_amd64.whl (55 kB)\n",
      "Downloading pillow-10.4.0-cp312-cp312-win_amd64.whl (2.6 MB)\n",
      "   ---------------------------------------- 0.0/2.6 MB ? eta -:--:--\n",
      "   ------------ --------------------------- 0.8/2.6 MB 4.8 MB/s eta 0:00:01\n",
      "   ---------------------------- ----------- 1.8/2.6 MB 5.0 MB/s eta 0:00:01\n",
      "   ------------------------------------ --- 2.4/2.6 MB 4.8 MB/s eta 0:00:01\n",
      "   ---------------------------------------- 2.6/2.6 MB 3.4 MB/s eta 0:00:00\n",
      "Downloading pyparsing-3.1.4-py3-none-any.whl (104 kB)\n",
      "Downloading scipy-1.14.1-cp312-cp312-win_amd64.whl (44.5 MB)\n",
      "   ---------------------------------------- 0.0/44.5 MB ? eta -:--:--\n",
      "    --------------------------------------- 1.0/44.5 MB 6.3 MB/s eta 0:00:07\n",
      "   -- ------------------------------------- 2.4/44.5 MB 6.1 MB/s eta 0:00:07\n",
      "   --- ------------------------------------ 3.4/44.5 MB 5.9 MB/s eta 0:00:07\n",
      "   ---- ----------------------------------- 4.7/44.5 MB 6.1 MB/s eta 0:00:07\n",
      "   ----- ---------------------------------- 6.0/44.5 MB 6.0 MB/s eta 0:00:07\n",
      "   ------ --------------------------------- 7.3/44.5 MB 6.1 MB/s eta 0:00:07\n",
      "   ------- -------------------------------- 8.7/44.5 MB 6.0 MB/s eta 0:00:06\n",
      "   -------- ------------------------------- 9.7/44.5 MB 6.0 MB/s eta 0:00:06\n",
      "   --------- ------------------------------ 10.7/44.5 MB 5.9 MB/s eta 0:00:06\n",
      "   ---------- ----------------------------- 12.1/44.5 MB 5.9 MB/s eta 0:00:06\n",
      "   ----------- ---------------------------- 13.1/44.5 MB 5.9 MB/s eta 0:00:06\n",
      "   ------------ --------------------------- 14.4/44.5 MB 5.8 MB/s eta 0:00:06\n",
      "   ------------- -------------------------- 15.5/44.5 MB 5.8 MB/s eta 0:00:05\n",
      "   -------------- ------------------------- 16.5/44.5 MB 5.8 MB/s eta 0:00:05\n",
      "   ---------------- ----------------------- 17.8/44.5 MB 5.8 MB/s eta 0:00:05\n",
      "   ---------------- ----------------------- 18.9/44.5 MB 5.8 MB/s eta 0:00:05\n",
      "   ------------------ --------------------- 20.2/44.5 MB 5.8 MB/s eta 0:00:05\n",
      "   ------------------- -------------------- 21.5/44.5 MB 5.8 MB/s eta 0:00:04\n",
      "   -------------------- ------------------- 22.8/44.5 MB 5.8 MB/s eta 0:00:04\n",
      "   --------------------- ------------------ 23.9/44.5 MB 5.8 MB/s eta 0:00:04\n",
      "   ---------------------- ----------------- 25.2/44.5 MB 5.8 MB/s eta 0:00:04\n",
      "   ----------------------- ---------------- 26.2/44.5 MB 5.7 MB/s eta 0:00:04\n",
      "   ------------------------ --------------- 27.5/44.5 MB 5.8 MB/s eta 0:00:03\n",
      "   ------------------------- -------------- 28.6/44.5 MB 5.8 MB/s eta 0:00:03\n",
      "   -------------------------- ------------- 29.6/44.5 MB 5.7 MB/s eta 0:00:03\n",
      "   --------------------------- ------------ 30.7/44.5 MB 5.7 MB/s eta 0:00:03\n",
      "   ---------------------------- ----------- 31.7/44.5 MB 5.6 MB/s eta 0:00:03\n",
      "   ----------------------------- ---------- 32.8/44.5 MB 5.7 MB/s eta 0:00:03\n",
      "   ------------------------------ --------- 34.1/44.5 MB 5.7 MB/s eta 0:00:02\n",
      "   ------------------------------- -------- 35.4/44.5 MB 5.7 MB/s eta 0:00:02\n",
      "   -------------------------------- ------- 36.4/44.5 MB 5.7 MB/s eta 0:00:02\n",
      "   --------------------------------- ------ 37.5/44.5 MB 5.7 MB/s eta 0:00:02\n",
      "   ---------------------------------- ----- 38.8/44.5 MB 5.6 MB/s eta 0:00:02\n",
      "   ----------------------------------- ---- 39.8/44.5 MB 5.7 MB/s eta 0:00:01\n",
      "   ------------------------------------ --- 41.2/44.5 MB 5.7 MB/s eta 0:00:01\n",
      "   -------------------------------------- - 42.5/44.5 MB 5.7 MB/s eta 0:00:01\n",
      "   ---------------------------------------  43.8/44.5 MB 5.7 MB/s eta 0:00:01\n",
      "   ---------------------------------------  44.3/44.5 MB 5.7 MB/s eta 0:00:01\n",
      "   ---------------------------------------  44.3/44.5 MB 5.7 MB/s eta 0:00:01\n",
      "   ---------------------------------------  44.3/44.5 MB 5.7 MB/s eta 0:00:01\n",
      "   ---------------------------------------  44.3/44.5 MB 5.7 MB/s eta 0:00:01\n",
      "   ---------------------------------------  44.3/44.5 MB 5.7 MB/s eta 0:00:01\n",
      "   ---------------------------------------- 44.5/44.5 MB 5.0 MB/s eta 0:00:00\n",
      "Downloading threadpoolctl-3.5.0-py3-none-any.whl (18 kB)\n",
      "Installing collected packages: threadpoolctl, scipy, pyparsing, pillow, kiwisolver, joblib, fonttools, cycler, contourpy, scikit-learn, matplotlib, seaborn\n",
      "Successfully installed contourpy-1.3.0 cycler-0.12.1 fonttools-4.54.1 joblib-1.4.2 kiwisolver-1.4.7 matplotlib-3.9.2 pillow-10.4.0 pyparsing-3.1.4 scikit-learn-1.5.2 scipy-1.14.1 seaborn-0.13.2 threadpoolctl-3.5.0\n"
     ]
    }
   ],
   "source": [
    "!pip install scikit-learn matplotlib seaborn"
   ]
  },
  {
   "cell_type": "code",
   "execution_count": 12,
   "metadata": {},
   "outputs": [
    {
     "name": "stdout",
     "output_type": "stream",
     "text": [
      "Collecting openpyxl\n",
      "  Downloading openpyxl-3.1.5-py2.py3-none-any.whl.metadata (2.5 kB)\n",
      "Collecting et-xmlfile (from openpyxl)\n",
      "  Downloading et_xmlfile-1.1.0-py3-none-any.whl.metadata (1.8 kB)\n",
      "Downloading openpyxl-3.1.5-py2.py3-none-any.whl (250 kB)\n",
      "Downloading et_xmlfile-1.1.0-py3-none-any.whl (4.7 kB)\n",
      "Installing collected packages: et-xmlfile, openpyxl\n",
      "Successfully installed et-xmlfile-1.1.0 openpyxl-3.1.5\n"
     ]
    }
   ],
   "source": [
    "!pip install openpyxl"
   ]
  },
  {
   "cell_type": "code",
   "execution_count": 3,
   "metadata": {},
   "outputs": [
    {
     "name": "stderr",
     "output_type": "stream",
     "text": [
      "Matplotlib is building the font cache; this may take a moment.\n"
     ]
    }
   ],
   "source": [
    "import pandas as pd\n",
    "from sklearn.cluster import KMeans\n",
    "from sklearn.preprocessing import StandardScaler\n",
    "import matplotlib.pyplot as plt\n",
    "import seaborn as sns"
   ]
  },
  {
   "cell_type": "code",
   "execution_count": 13,
   "metadata": {},
   "outputs": [],
   "source": [
    "ventas = pd.read_excel('C:/Users/james/OneDrive/Escritorio/TareaDiscreta/MD_tarea_2/ventasOrdenado.xlsx')  # Datos de ventas\n",
    "kits = pd.read_excel('C:/Users/james/OneDrive/Escritorio/TareaDiscreta/MD_tarea_2/kits.xlsx')   # Datos de kits"
   ]
  },
  {
   "cell_type": "code",
   "execution_count": 17,
   "metadata": {},
   "outputs": [],
   "source": [
    "def desagregar_ventas(ventas, kits):\n",
    "    # Unir las ventas con los kits según el código de artículo\n",
    "    ventas_desagregadas = ventas.copy()\n",
    "    \n",
    "    # Desagregar kits por sus componentes\n",
    "    kits_limpio = kits.melt(id_vars='Código KIT (Sin historial)', \n",
    "                            value_vars=['Código 1', 'Código 2', 'Código 3'],\n",
    "                            var_name='Componente', value_name='articulo')\n",
    "    kits_limpio.dropna(inplace=True)\n",
    "\n",
    "    # Unir la tabla de ventas con la tabla de kits\n",
    "    ventas_con_kits = pd.merge(ventas_desagregadas, kits_limpio, \n",
    "                               left_on='articulo', right_on='articulo', how='left')\n",
    "    \n",
    "    # Ajustar las ventas del kit a cada artículo componente\n",
    "    ventas_con_kits['Ventas Ajustadas'] = ventas_con_kits.apply(\n",
    "        lambda x: x['venta_usd'] if pd.isna(x['Código KIT (Sin historial)']) else x['venta_usd'] / 3, axis=1\n",
    "    )\n",
    "    \n",
    "    return ventas_con_kits[['articulo', 'Ventas Ajustadas', 'Código KIT (Sin historial)']]\n",
    "\n"
   ]
  },
  {
   "cell_type": "code",
   "execution_count": 21,
   "metadata": {},
   "outputs": [
    {
     "data": {
      "text/plain": [
       "['Sheet1']"
      ]
     },
     "execution_count": 21,
     "metadata": {},
     "output_type": "execute_result"
    }
   ],
   "source": [
    "import pandas as pd\n",
    "\n",
    "# Load the uploaded Excel file to inspect its content\n",
    "file_path = 'C:/Users/james/OneDrive/Escritorio/TareaDiscreta/MD_tarea_2/ventasOrdenado.xlsx'\n",
    "\n",
    "# Load the Excel file to check available sheets and structure\n",
    "ventas_data = pd.ExcelFile(file_path)\n",
    "ventas_data.sheet_names"
   ]
  },
  {
   "cell_type": "code",
   "execution_count": 26,
   "metadata": {},
   "outputs": [
    {
     "data": {
      "text/html": [
       "<div>\n",
       "<style scoped>\n",
       "    .dataframe tbody tr th:only-of-type {\n",
       "        vertical-align: middle;\n",
       "    }\n",
       "\n",
       "    .dataframe tbody tr th {\n",
       "        vertical-align: top;\n",
       "    }\n",
       "\n",
       "    .dataframe thead th {\n",
       "        text-align: right;\n",
       "    }\n",
       "</style>\n",
       "<table border=\"1\" class=\"dataframe\">\n",
       "  <thead>\n",
       "    <tr style=\"text-align: right;\">\n",
       "      <th></th>\n",
       "      <th>cia</th>\n",
       "      <th>fecha</th>\n",
       "      <th>codigo</th>\n",
       "      <th>razon_social</th>\n",
       "      <th>rubro</th>\n",
       "      <th>departamento</th>\n",
       "      <th>documento</th>\n",
       "      <th>articulo</th>\n",
       "      <th>nombre_articulo</th>\n",
       "      <th>fuente_suministro</th>\n",
       "      <th>cantidad</th>\n",
       "      <th>venta_usd</th>\n",
       "      <th>venta_pen</th>\n",
       "      <th>costo</th>\n",
       "      <th>vendedor</th>\n",
       "      <th>cobrador</th>\n",
       "      <th>marca</th>\n",
       "      <th>transacciones</th>\n",
       "    </tr>\n",
       "  </thead>\n",
       "  <tbody>\n",
       "    <tr>\n",
       "      <th>0</th>\n",
       "      <td>ic</td>\n",
       "      <td>2021-01-04</td>\n",
       "      <td>c08724</td>\n",
       "      <td>casas sovero daniela yamilet</td>\n",
       "      <td>ventas de partes, piezas y accesorios para veh...</td>\n",
       "      <td>lima</td>\n",
       "      <td>f001-01-0034897</td>\n",
       "      <td>48320.0</td>\n",
       "      <td>focos h1 12v 55w</td>\n",
       "      <td>narva</td>\n",
       "      <td>50</td>\n",
       "      <td>51.27</td>\n",
       "      <td>185.80</td>\n",
       "      <td>134.87000</td>\n",
       "      <td>bayona paiva myriam</td>\n",
       "      <td>vega zúñiga enrique</td>\n",
       "      <td>no registro</td>\n",
       "      <td>1</td>\n",
       "    </tr>\n",
       "    <tr>\n",
       "      <th>1</th>\n",
       "      <td>ic</td>\n",
       "      <td>2021-01-04</td>\n",
       "      <td>c08724</td>\n",
       "      <td>casas sovero daniela yamilet</td>\n",
       "      <td>ventas de partes, piezas y accesorios para veh...</td>\n",
       "      <td>lima</td>\n",
       "      <td>f001-01-0034897</td>\n",
       "      <td>48901.0</td>\n",
       "      <td>focos h4 12v 100x90 rallye(7)</td>\n",
       "      <td>narva</td>\n",
       "      <td>300</td>\n",
       "      <td>597.46</td>\n",
       "      <td>2165.20</td>\n",
       "      <td>1413.05010</td>\n",
       "      <td>bayona paiva myriam</td>\n",
       "      <td>vega zúñiga enrique</td>\n",
       "      <td>no registro</td>\n",
       "      <td>1</td>\n",
       "    </tr>\n",
       "    <tr>\n",
       "      <th>2</th>\n",
       "      <td>ic</td>\n",
       "      <td>2021-01-04</td>\n",
       "      <td>c10722</td>\n",
       "      <td>gc service &amp; parts s.a.c.</td>\n",
       "      <td>NaN</td>\n",
       "      <td>lima</td>\n",
       "      <td>f001-01-0034900</td>\n",
       "      <td>NaN</td>\n",
       "      <td>filtro de aire 1° af25729 055134r1</td>\n",
       "      <td>mann - brasil</td>\n",
       "      <td>8</td>\n",
       "      <td>152.54</td>\n",
       "      <td>552.80</td>\n",
       "      <td>310.15000</td>\n",
       "      <td>rojas vasquez lilian</td>\n",
       "      <td>oficina</td>\n",
       "      <td>no registro</td>\n",
       "      <td>1</td>\n",
       "    </tr>\n",
       "    <tr>\n",
       "      <th>3</th>\n",
       "      <td>ic</td>\n",
       "      <td>2021-01-05</td>\n",
       "      <td>c12849</td>\n",
       "      <td>lopez rosales yolanda juana</td>\n",
       "      <td>NaN</td>\n",
       "      <td>junin</td>\n",
       "      <td>f001-01-0034918</td>\n",
       "      <td>NaN</td>\n",
       "      <td>pastillas de freno ceramica d1567 delt</td>\n",
       "      <td>wagner - pastillas</td>\n",
       "      <td>2</td>\n",
       "      <td>42.36</td>\n",
       "      <td>153.68</td>\n",
       "      <td>96.56000</td>\n",
       "      <td>cañas flores alan joel</td>\n",
       "      <td>cañas flores alan joel</td>\n",
       "      <td>no registro</td>\n",
       "      <td>1</td>\n",
       "    </tr>\n",
       "    <tr>\n",
       "      <th>4</th>\n",
       "      <td>ic</td>\n",
       "      <td>2021-01-06</td>\n",
       "      <td>c11327</td>\n",
       "      <td>palante flotas s.a.c.</td>\n",
       "      <td>NaN</td>\n",
       "      <td>lima</td>\n",
       "      <td>f001-01-0034930</td>\n",
       "      <td>NaN</td>\n",
       "      <td>aceite sae20w50 sn racing</td>\n",
       "      <td>valvoline</td>\n",
       "      <td>90</td>\n",
       "      <td>861.86</td>\n",
       "      <td>3129.41</td>\n",
       "      <td>2323.67004</td>\n",
       "      <td>mostrador 4</td>\n",
       "      <td>olórtegui manrique juan</td>\n",
       "      <td>no registro</td>\n",
       "      <td>1</td>\n",
       "    </tr>\n",
       "  </tbody>\n",
       "</table>\n",
       "</div>"
      ],
      "text/plain": [
       "  cia      fecha  codigo                  razon_social  \\\n",
       "0  ic 2021-01-04  c08724  casas sovero daniela yamilet   \n",
       "1  ic 2021-01-04  c08724  casas sovero daniela yamilet   \n",
       "2  ic 2021-01-04  c10722     gc service & parts s.a.c.   \n",
       "3  ic 2021-01-05  c12849   lopez rosales yolanda juana   \n",
       "4  ic 2021-01-06  c11327         palante flotas s.a.c.   \n",
       "\n",
       "                                               rubro departamento  \\\n",
       "0  ventas de partes, piezas y accesorios para veh...         lima   \n",
       "1  ventas de partes, piezas y accesorios para veh...         lima   \n",
       "2                                                NaN         lima   \n",
       "3                                                NaN        junin   \n",
       "4                                                NaN         lima   \n",
       "\n",
       "         documento  articulo                         nombre_articulo  \\\n",
       "0  f001-01-0034897   48320.0                        focos h1 12v 55w   \n",
       "1  f001-01-0034897   48901.0           focos h4 12v 100x90 rallye(7)   \n",
       "2  f001-01-0034900       NaN      filtro de aire 1° af25729 055134r1   \n",
       "3  f001-01-0034918       NaN  pastillas de freno ceramica d1567 delt   \n",
       "4  f001-01-0034930       NaN               aceite sae20w50 sn racing   \n",
       "\n",
       "    fuente_suministro  cantidad  venta_usd  venta_pen       costo  \\\n",
       "0               narva        50      51.27     185.80   134.87000   \n",
       "1               narva       300     597.46    2165.20  1413.05010   \n",
       "2       mann - brasil         8     152.54     552.80   310.15000   \n",
       "3  wagner - pastillas         2      42.36     153.68    96.56000   \n",
       "4           valvoline        90     861.86    3129.41  2323.67004   \n",
       "\n",
       "                 vendedor                 cobrador        marca  transacciones  \n",
       "0     bayona paiva myriam      vega zúñiga enrique  no registro              1  \n",
       "1     bayona paiva myriam      vega zúñiga enrique  no registro              1  \n",
       "2    rojas vasquez lilian                  oficina  no registro              1  \n",
       "3  cañas flores alan joel   cañas flores alan joel  no registro              1  \n",
       "4             mostrador 4  olórtegui manrique juan  no registro              1  "
      ]
     },
     "execution_count": 26,
     "metadata": {},
     "output_type": "execute_result"
    }
   ],
   "source": [
    "ventas_df = pd.read_excel(file_path, sheet_name='Sheet1', nrows=18,)\n",
    "ventas_df.head()"
   ]
  },
  {
   "cell_type": "code",
   "execution_count": 31,
   "metadata": {},
   "outputs": [
    {
     "ename": "NameError",
     "evalue": "name 'ventas_f' is not defined",
     "output_type": "error",
     "traceback": [
      "\u001b[1;31m---------------------------------------------------------------------------\u001b[0m",
      "\u001b[1;31mNameError\u001b[0m                                 Traceback (most recent call last)",
      "Cell \u001b[1;32mIn[31], line 1\u001b[0m\n\u001b[1;32m----> 1\u001b[0m ventas_f \u001b[38;5;241m=\u001b[39m \u001b[43mventas_f\u001b[49m\u001b[38;5;241m.\u001b[39mdrop([\u001b[38;5;124m'\u001b[39m\u001b[38;5;124mrazon_social\u001b[39m\u001b[38;5;124m'\u001b[39m, \u001b[38;5;124m'\u001b[39m\u001b[38;5;124mdocumento\u001b[39m\u001b[38;5;124m'\u001b[39m, \u001b[38;5;124m'\u001b[39m\u001b[38;5;124mmarca\u001b[39m\u001b[38;5;124m'\u001b[39m, \u001b[38;5;124m'\u001b[39m\u001b[38;5;124mtransacciones\u001b[39m\u001b[38;5;124m'\u001b[39m], axis\u001b[38;5;241m=\u001b[39m\u001b[38;5;241m1\u001b[39m)\n\u001b[0;32m      2\u001b[0m \u001b[38;5;28mprint\u001b[39m(ventas_f)\n",
      "\u001b[1;31mNameError\u001b[0m: name 'ventas_f' is not defined"
     ]
    }
   ],
   "source": [
    "ventas_fd = ventas_fd.drop(['razon_social', 'documento', 'marca', 'transacciones'], axis=1)\n",
    "print(ventas_fd)"
   ]
  },
  {
   "cell_type": "code",
   "execution_count": 18,
   "metadata": {},
   "outputs": [
    {
     "ename": "KeyError",
     "evalue": "'Artículo'",
     "output_type": "error",
     "traceback": [
      "\u001b[1;31m---------------------------------------------------------------------------\u001b[0m",
      "\u001b[1;31mKeyError\u001b[0m                                  Traceback (most recent call last)",
      "\u001b[1;32m~\\AppData\\Local\\Temp\\ipykernel_14212\\4094885889.py\u001b[0m in \u001b[0;36m?\u001b[1;34m()\u001b[0m\n\u001b[1;32m----> 1\u001b[1;33m \u001b[0mventas_desagregadas\u001b[0m \u001b[1;33m=\u001b[0m \u001b[0mdesagregar_ventas\u001b[0m\u001b[1;33m(\u001b[0m\u001b[0mventas\u001b[0m\u001b[1;33m,\u001b[0m \u001b[0mkits\u001b[0m\u001b[1;33m)\u001b[0m\u001b[1;33m\u001b[0m\u001b[1;33m\u001b[0m\u001b[0m\n\u001b[0m\u001b[0;32m      2\u001b[0m \u001b[0mprint\u001b[0m\u001b[1;33m(\u001b[0m\u001b[1;34m\"Ventas desagregadas:\"\u001b[0m\u001b[1;33m)\u001b[0m\u001b[1;33m\u001b[0m\u001b[1;33m\u001b[0m\u001b[0m\n\u001b[0;32m      3\u001b[0m \u001b[0mprint\u001b[0m\u001b[1;33m(\u001b[0m\u001b[0mventas_desagregadas\u001b[0m\u001b[1;33m.\u001b[0m\u001b[0mhead\u001b[0m\u001b[1;33m(\u001b[0m\u001b[1;33m)\u001b[0m\u001b[1;33m)\u001b[0m\u001b[1;33m\u001b[0m\u001b[1;33m\u001b[0m\u001b[0m\n",
      "\u001b[1;32m~\\AppData\\Local\\Temp\\ipykernel_14212\\4173164767.py\u001b[0m in \u001b[0;36m?\u001b[1;34m(ventas, kits)\u001b[0m\n\u001b[0;32m      8\u001b[0m                             \u001b[0mvar_name\u001b[0m\u001b[1;33m=\u001b[0m\u001b[1;34m'Componente'\u001b[0m\u001b[1;33m,\u001b[0m \u001b[0mvalue_name\u001b[0m\u001b[1;33m=\u001b[0m\u001b[1;34m'Artículo'\u001b[0m\u001b[1;33m)\u001b[0m\u001b[1;33m\u001b[0m\u001b[1;33m\u001b[0m\u001b[0m\n\u001b[0;32m      9\u001b[0m     \u001b[0mkits_limpio\u001b[0m\u001b[1;33m.\u001b[0m\u001b[0mdropna\u001b[0m\u001b[1;33m(\u001b[0m\u001b[0minplace\u001b[0m\u001b[1;33m=\u001b[0m\u001b[1;32mTrue\u001b[0m\u001b[1;33m)\u001b[0m\u001b[1;33m\u001b[0m\u001b[1;33m\u001b[0m\u001b[0m\n\u001b[0;32m     10\u001b[0m \u001b[1;33m\u001b[0m\u001b[0m\n\u001b[0;32m     11\u001b[0m     \u001b[1;31m# Unimos la tabla de ventas con la tabla de kits\u001b[0m\u001b[1;33m\u001b[0m\u001b[1;33m\u001b[0m\u001b[0m\n\u001b[1;32m---> 12\u001b[1;33m     ventas_con_kits = pd.merge(ventas_desagregadas, kits_limpio, \n\u001b[0m\u001b[0;32m     13\u001b[0m                                \u001b[0mleft_on\u001b[0m\u001b[1;33m=\u001b[0m\u001b[1;34m'Artículo'\u001b[0m\u001b[1;33m,\u001b[0m \u001b[0mright_on\u001b[0m\u001b[1;33m=\u001b[0m\u001b[1;34m'Artículo'\u001b[0m\u001b[1;33m,\u001b[0m \u001b[0mhow\u001b[0m\u001b[1;33m=\u001b[0m\u001b[1;34m'left'\u001b[0m\u001b[1;33m)\u001b[0m\u001b[1;33m\u001b[0m\u001b[1;33m\u001b[0m\u001b[0m\n\u001b[0;32m     14\u001b[0m \u001b[1;33m\u001b[0m\u001b[0m\n\u001b[0;32m     15\u001b[0m     \u001b[1;31m# Resta las ventas del kit a cada artículo componente\u001b[0m\u001b[1;33m\u001b[0m\u001b[1;33m\u001b[0m\u001b[0m\n",
      "\u001b[1;32mc:\\Users\\james\\AppData\\Local\\Programs\\Python\\Python312\\Lib\\site-packages\\pandas\\core\\reshape\\merge.py\u001b[0m in \u001b[0;36m?\u001b[1;34m(left, right, how, on, left_on, right_on, left_index, right_index, sort, suffixes, copy, indicator, validate)\u001b[0m\n\u001b[0;32m    166\u001b[0m             \u001b[0mvalidate\u001b[0m\u001b[1;33m=\u001b[0m\u001b[0mvalidate\u001b[0m\u001b[1;33m,\u001b[0m\u001b[1;33m\u001b[0m\u001b[1;33m\u001b[0m\u001b[0m\n\u001b[0;32m    167\u001b[0m             \u001b[0mcopy\u001b[0m\u001b[1;33m=\u001b[0m\u001b[0mcopy\u001b[0m\u001b[1;33m,\u001b[0m\u001b[1;33m\u001b[0m\u001b[1;33m\u001b[0m\u001b[0m\n\u001b[0;32m    168\u001b[0m         \u001b[1;33m)\u001b[0m\u001b[1;33m\u001b[0m\u001b[1;33m\u001b[0m\u001b[0m\n\u001b[0;32m    169\u001b[0m     \u001b[1;32melse\u001b[0m\u001b[1;33m:\u001b[0m\u001b[1;33m\u001b[0m\u001b[1;33m\u001b[0m\u001b[0m\n\u001b[1;32m--> 170\u001b[1;33m         op = _MergeOperation(\n\u001b[0m\u001b[0;32m    171\u001b[0m             \u001b[0mleft_df\u001b[0m\u001b[1;33m,\u001b[0m\u001b[1;33m\u001b[0m\u001b[1;33m\u001b[0m\u001b[0m\n\u001b[0;32m    172\u001b[0m             \u001b[0mright_df\u001b[0m\u001b[1;33m,\u001b[0m\u001b[1;33m\u001b[0m\u001b[1;33m\u001b[0m\u001b[0m\n\u001b[0;32m    173\u001b[0m             \u001b[0mhow\u001b[0m\u001b[1;33m=\u001b[0m\u001b[0mhow\u001b[0m\u001b[1;33m,\u001b[0m\u001b[1;33m\u001b[0m\u001b[1;33m\u001b[0m\u001b[0m\n",
      "\u001b[1;32mc:\\Users\\james\\AppData\\Local\\Programs\\Python\\Python312\\Lib\\site-packages\\pandas\\core\\reshape\\merge.py\u001b[0m in \u001b[0;36m?\u001b[1;34m(self, left, right, how, on, left_on, right_on, left_index, right_index, sort, suffixes, indicator, validate)\u001b[0m\n\u001b[0;32m    790\u001b[0m             \u001b[0mself\u001b[0m\u001b[1;33m.\u001b[0m\u001b[0mright_join_keys\u001b[0m\u001b[1;33m,\u001b[0m\u001b[1;33m\u001b[0m\u001b[1;33m\u001b[0m\u001b[0m\n\u001b[0;32m    791\u001b[0m             \u001b[0mself\u001b[0m\u001b[1;33m.\u001b[0m\u001b[0mjoin_names\u001b[0m\u001b[1;33m,\u001b[0m\u001b[1;33m\u001b[0m\u001b[1;33m\u001b[0m\u001b[0m\n\u001b[0;32m    792\u001b[0m             \u001b[0mleft_drop\u001b[0m\u001b[1;33m,\u001b[0m\u001b[1;33m\u001b[0m\u001b[1;33m\u001b[0m\u001b[0m\n\u001b[0;32m    793\u001b[0m             \u001b[0mright_drop\u001b[0m\u001b[1;33m,\u001b[0m\u001b[1;33m\u001b[0m\u001b[1;33m\u001b[0m\u001b[0m\n\u001b[1;32m--> 794\u001b[1;33m         \u001b[1;33m)\u001b[0m \u001b[1;33m=\u001b[0m \u001b[0mself\u001b[0m\u001b[1;33m.\u001b[0m\u001b[0m_get_merge_keys\u001b[0m\u001b[1;33m(\u001b[0m\u001b[1;33m)\u001b[0m\u001b[1;33m\u001b[0m\u001b[1;33m\u001b[0m\u001b[0m\n\u001b[0m\u001b[0;32m    795\u001b[0m \u001b[1;33m\u001b[0m\u001b[0m\n\u001b[0;32m    796\u001b[0m         \u001b[1;32mif\u001b[0m \u001b[0mleft_drop\u001b[0m\u001b[1;33m:\u001b[0m\u001b[1;33m\u001b[0m\u001b[1;33m\u001b[0m\u001b[0m\n\u001b[0;32m    797\u001b[0m             \u001b[0mself\u001b[0m\u001b[1;33m.\u001b[0m\u001b[0mleft\u001b[0m \u001b[1;33m=\u001b[0m \u001b[0mself\u001b[0m\u001b[1;33m.\u001b[0m\u001b[0mleft\u001b[0m\u001b[1;33m.\u001b[0m\u001b[0m_drop_labels_or_levels\u001b[0m\u001b[1;33m(\u001b[0m\u001b[0mleft_drop\u001b[0m\u001b[1;33m)\u001b[0m\u001b[1;33m\u001b[0m\u001b[1;33m\u001b[0m\u001b[0m\n",
      "\u001b[1;32mc:\\Users\\james\\AppData\\Local\\Programs\\Python\\Python312\\Lib\\site-packages\\pandas\\core\\reshape\\merge.py\u001b[0m in \u001b[0;36m?\u001b[1;34m(self)\u001b[0m\n\u001b[0;32m   1306\u001b[0m                     \u001b[1;32mif\u001b[0m \u001b[0mlk\u001b[0m \u001b[1;32mis\u001b[0m \u001b[1;32mnot\u001b[0m \u001b[1;32mNone\u001b[0m\u001b[1;33m:\u001b[0m\u001b[1;33m\u001b[0m\u001b[1;33m\u001b[0m\u001b[0m\n\u001b[0;32m   1307\u001b[0m                         \u001b[1;31m# Then we're either Hashable or a wrong-length arraylike,\u001b[0m\u001b[1;33m\u001b[0m\u001b[1;33m\u001b[0m\u001b[0m\n\u001b[0;32m   1308\u001b[0m                         \u001b[1;31m#  the latter of which will raise\u001b[0m\u001b[1;33m\u001b[0m\u001b[1;33m\u001b[0m\u001b[0m\n\u001b[0;32m   1309\u001b[0m                         \u001b[0mlk\u001b[0m \u001b[1;33m=\u001b[0m \u001b[0mcast\u001b[0m\u001b[1;33m(\u001b[0m\u001b[0mHashable\u001b[0m\u001b[1;33m,\u001b[0m \u001b[0mlk\u001b[0m\u001b[1;33m)\u001b[0m\u001b[1;33m\u001b[0m\u001b[1;33m\u001b[0m\u001b[0m\n\u001b[1;32m-> 1310\u001b[1;33m                         \u001b[0mleft_keys\u001b[0m\u001b[1;33m.\u001b[0m\u001b[0mappend\u001b[0m\u001b[1;33m(\u001b[0m\u001b[0mleft\u001b[0m\u001b[1;33m.\u001b[0m\u001b[0m_get_label_or_level_values\u001b[0m\u001b[1;33m(\u001b[0m\u001b[0mlk\u001b[0m\u001b[1;33m)\u001b[0m\u001b[1;33m)\u001b[0m\u001b[1;33m\u001b[0m\u001b[1;33m\u001b[0m\u001b[0m\n\u001b[0m\u001b[0;32m   1311\u001b[0m                         \u001b[0mjoin_names\u001b[0m\u001b[1;33m.\u001b[0m\u001b[0mappend\u001b[0m\u001b[1;33m(\u001b[0m\u001b[0mlk\u001b[0m\u001b[1;33m)\u001b[0m\u001b[1;33m\u001b[0m\u001b[1;33m\u001b[0m\u001b[0m\n\u001b[0;32m   1312\u001b[0m                     \u001b[1;32melse\u001b[0m\u001b[1;33m:\u001b[0m\u001b[1;33m\u001b[0m\u001b[1;33m\u001b[0m\u001b[0m\n\u001b[0;32m   1313\u001b[0m                         \u001b[1;31m# work-around for merge_asof(left_index=True)\u001b[0m\u001b[1;33m\u001b[0m\u001b[1;33m\u001b[0m\u001b[0m\n",
      "\u001b[1;32mc:\\Users\\james\\AppData\\Local\\Programs\\Python\\Python312\\Lib\\site-packages\\pandas\\core\\generic.py\u001b[0m in \u001b[0;36m?\u001b[1;34m(self, key, axis)\u001b[0m\n\u001b[0;32m   1907\u001b[0m             \u001b[0mvalues\u001b[0m \u001b[1;33m=\u001b[0m \u001b[0mself\u001b[0m\u001b[1;33m.\u001b[0m\u001b[0mxs\u001b[0m\u001b[1;33m(\u001b[0m\u001b[0mkey\u001b[0m\u001b[1;33m,\u001b[0m \u001b[0maxis\u001b[0m\u001b[1;33m=\u001b[0m\u001b[0mother_axes\u001b[0m\u001b[1;33m[\u001b[0m\u001b[1;36m0\u001b[0m\u001b[1;33m]\u001b[0m\u001b[1;33m)\u001b[0m\u001b[1;33m.\u001b[0m\u001b[0m_values\u001b[0m\u001b[1;33m\u001b[0m\u001b[1;33m\u001b[0m\u001b[0m\n\u001b[0;32m   1908\u001b[0m         \u001b[1;32melif\u001b[0m \u001b[0mself\u001b[0m\u001b[1;33m.\u001b[0m\u001b[0m_is_level_reference\u001b[0m\u001b[1;33m(\u001b[0m\u001b[0mkey\u001b[0m\u001b[1;33m,\u001b[0m \u001b[0maxis\u001b[0m\u001b[1;33m=\u001b[0m\u001b[0maxis\u001b[0m\u001b[1;33m)\u001b[0m\u001b[1;33m:\u001b[0m\u001b[1;33m\u001b[0m\u001b[1;33m\u001b[0m\u001b[0m\n\u001b[0;32m   1909\u001b[0m             \u001b[0mvalues\u001b[0m \u001b[1;33m=\u001b[0m \u001b[0mself\u001b[0m\u001b[1;33m.\u001b[0m\u001b[0maxes\u001b[0m\u001b[1;33m[\u001b[0m\u001b[0maxis\u001b[0m\u001b[1;33m]\u001b[0m\u001b[1;33m.\u001b[0m\u001b[0mget_level_values\u001b[0m\u001b[1;33m(\u001b[0m\u001b[0mkey\u001b[0m\u001b[1;33m)\u001b[0m\u001b[1;33m.\u001b[0m\u001b[0m_values\u001b[0m\u001b[1;33m\u001b[0m\u001b[1;33m\u001b[0m\u001b[0m\n\u001b[0;32m   1910\u001b[0m         \u001b[1;32melse\u001b[0m\u001b[1;33m:\u001b[0m\u001b[1;33m\u001b[0m\u001b[1;33m\u001b[0m\u001b[0m\n\u001b[1;32m-> 1911\u001b[1;33m             \u001b[1;32mraise\u001b[0m \u001b[0mKeyError\u001b[0m\u001b[1;33m(\u001b[0m\u001b[0mkey\u001b[0m\u001b[1;33m)\u001b[0m\u001b[1;33m\u001b[0m\u001b[1;33m\u001b[0m\u001b[0m\n\u001b[0m\u001b[0;32m   1912\u001b[0m \u001b[1;33m\u001b[0m\u001b[0m\n\u001b[0;32m   1913\u001b[0m         \u001b[1;31m# Check for duplicates\u001b[0m\u001b[1;33m\u001b[0m\u001b[1;33m\u001b[0m\u001b[0m\n\u001b[0;32m   1914\u001b[0m         \u001b[1;32mif\u001b[0m \u001b[0mvalues\u001b[0m\u001b[1;33m.\u001b[0m\u001b[0mndim\u001b[0m \u001b[1;33m>\u001b[0m \u001b[1;36m1\u001b[0m\u001b[1;33m:\u001b[0m\u001b[1;33m\u001b[0m\u001b[1;33m\u001b[0m\u001b[0m\n",
      "\u001b[1;31mKeyError\u001b[0m: 'Artículo'"
     ]
    }
   ],
   "source": [
    "ventas_desagregadas = desagregar_ventas(ventas, kits)\n",
    "print(\"Ventas desagregadas:\")\n",
    "print(ventas_desagregadas.head())"
   ]
  },
  {
   "cell_type": "code",
   "execution_count": null,
   "metadata": {},
   "outputs": [],
   "source": [
    "def preparar_datos_para_clustering(ventas_desagregadas):\n",
    "    # Crear una tabla con las ventas agregadas por artículo\n",
    "    ventas_por_articulo = ventas_desagregadas.groupby('Código Artículo').sum().reset_index()\n",
    "\n",
    "    # Escalar los datos para el clustering\n",
    "    scaler = StandardScaler()\n",
    "    ventas_scaled = scaler.fit_transform(ventas_por_articulo[['Ventas Ajustadas']])\n",
    "    \n",
    "    return ventas_por_articulo, ventas_scaled"
   ]
  },
  {
   "cell_type": "code",
   "execution_count": null,
   "metadata": {},
   "outputs": [],
   "source": [
    "def aplicar_clustering(ventas_scaled, n_clusters=5):\n",
    "    kmeans = KMeans(n_clusters=n_clusters, random_state=42)\n",
    "    clusters = kmeans.fit_predict(ventas_scaled)\n",
    "    return clusters"
   ]
  },
  {
   "cell_type": "code",
   "execution_count": null,
   "metadata": {},
   "outputs": [],
   "source": [
    "ventas_por_articulo, ventas_scaled = preparar_datos_para_clustering(ventas_desagregadas)\n",
    "clusters = aplicar_clustering(ventas_scaled)"
   ]
  },
  {
   "cell_type": "code",
   "execution_count": null,
   "metadata": {},
   "outputs": [],
   "source": [
    "ventas_por_articulo['Cluster'] = clusters\n",
    "print(\"\\nVentas por artículo con clusters:\")\n",
    "print(ventas_por_articulo.head())"
   ]
  },
  {
   "cell_type": "code",
   "execution_count": null,
   "metadata": {},
   "outputs": [],
   "source": [
    "plt.figure(figsize=(10, 6))\n",
    "sns.scatterplot(x='Código Artículo', y='Ventas Ajustadas', hue='Cluster', \n",
    "                data=ventas_por_articulo, palette='Set1', legend='full')\n",
    "plt.title('Clusters de artículos según ventas ajustadas')\n",
    "plt.xticks(rotation=90)\n",
    "plt.show()"
   ]
  }
 ],
 "metadata": {
  "kernelspec": {
   "display_name": "Python 3",
   "language": "python",
   "name": "python3"
  },
  "language_info": {
   "codemirror_mode": {
    "name": "ipython",
    "version": 3
   },
   "file_extension": ".py",
   "mimetype": "text/x-python",
   "name": "python",
   "nbconvert_exporter": "python",
   "pygments_lexer": "ipython3",
   "version": "3.12.1"
  }
 },
 "nbformat": 4,
 "nbformat_minor": 2
}
